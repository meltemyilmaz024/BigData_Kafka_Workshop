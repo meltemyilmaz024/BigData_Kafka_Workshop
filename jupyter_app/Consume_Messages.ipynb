{
 "cells": [
  {
   "cell_type": "code",
   "execution_count": 1,
   "id": "28416466-9f9b-4e0b-a530-077f56ddb522",
   "metadata": {},
   "outputs": [],
   "source": [
    "from kafka import KafkaConsumer\n",
    "\n",
    "bootstrap_servers = 'kafka-1:19092,kafka-2:19093,kafka-3:19094'\n",
    "topic_name = 'msg_delivery_app_p3'"
   ]
  },
  {
   "cell_type": "code",
   "execution_count": 5,
   "id": "8f4f487e-8876-4c21-a2fb-518a0818994f",
   "metadata": {},
   "outputs": [
    {
     "name": "stdout",
     "output_type": "stream",
     "text": [
      "Consumer Configuration: {'bootstrap_servers': 'kafka-1:19092,kafka-2:19093,kafka-3:19094', 'client_id': 'kafka-python-2.0.2', 'group_id': 'CG1', 'key_deserializer': None, 'value_deserializer': <function <lambda> at 0x7f35ff7f4b80>, 'fetch_max_wait_ms': 500, 'fetch_min_bytes': 1, 'fetch_max_bytes': 52428800, 'max_partition_fetch_bytes': 1048576, 'request_timeout_ms': 305000, 'retry_backoff_ms': 100, 'reconnect_backoff_ms': 50, 'reconnect_backoff_max_ms': 1000, 'max_in_flight_requests_per_connection': 5, 'auto_offset_reset': 'earliest', 'enable_auto_commit': True, 'auto_commit_interval_ms': 5000, 'default_offset_commit_callback': <function KafkaConsumer.<lambda> at 0x7f3614e462a0>, 'check_crcs': True, 'metadata_max_age_ms': 300000, 'partition_assignment_strategy': (<class 'kafka.coordinator.assignors.range.RangePartitionAssignor'>, <class 'kafka.coordinator.assignors.roundrobin.RoundRobinPartitionAssignor'>), 'max_poll_records': 500, 'max_poll_interval_ms': 300000, 'session_timeout_ms': 10000, 'heartbeat_interval_ms': 3000, 'receive_buffer_bytes': None, 'send_buffer_bytes': None, 'socket_options': [(6, 1, 1)], 'sock_chunk_bytes': 4096, 'sock_chunk_buffer_count': 1000, 'consumer_timeout_ms': inf, 'security_protocol': 'PLAINTEXT', 'ssl_context': None, 'ssl_check_hostname': True, 'ssl_cafile': None, 'ssl_certfile': None, 'ssl_keyfile': None, 'ssl_crlfile': None, 'ssl_password': None, 'ssl_ciphers': None, 'api_version': (2, 5, 0), 'api_version_auto_timeout_ms': 2000, 'connections_max_idle_ms': 540000, 'metric_reporters': [], 'metrics_num_samples': 2, 'metrics_sample_window_ms': 30000, 'metric_group_prefix': 'consumer', 'selector': <class 'selectors.EpollSelector'>, 'exclude_internal_topics': True, 'sasl_mechanism': None, 'sasl_plain_username': None, 'sasl_plain_password': None, 'sasl_kerberos_service_name': 'kafka', 'sasl_kerberos_domain_name': None, 'sasl_oauth_token_provider': None, 'legacy_iterator': False}\n"
     ]
    }
   ],
   "source": [
    "# Set up Kafka consumer\n",
    "consumer = KafkaConsumer(\n",
    "    topic_name,\n",
    "    bootstrap_servers=bootstrap_servers,\n",
    "    auto_offset_reset='earliest',\n",
    "    enable_auto_commit=True,\n",
    "    group_id=\"CG1\",  # Use an empty string to disable group management\n",
    "    value_deserializer=lambda x: x.decode('utf-8')\n",
    ")\n",
    "\n",
    "print(\"Consumer Configuration:\", consumer.config)"
   ]
  },
  {
   "cell_type": "code",
   "execution_count": null,
   "id": "90acca37-28c9-4453-bcb1-1d4d7d80b169",
   "metadata": {},
   "outputs": [
    {
     "name": "stdout",
     "output_type": "stream",
     "text": [
      "Received message: Message 10 (acks=0)\n",
      "Received message: Message 12 (acks=0)\n",
      "Received message: Message 14 (acks=0)\n",
      "Received message: Message 17 (acks=0)\n",
      "Received message: Message 18 (acks=0)\n",
      "Received message: Message 10 (acks=0)\n",
      "Received message: Message 12 (acks=0)\n",
      "Received message: Message 14 (acks=0)\n",
      "Received message: Message 15 (acks=0)\n",
      "Received message: Message 10 (acks=0)\n",
      "Received message: Message 12 (acks=0)\n",
      "Received message: Message 16 (acks=0)\n",
      "Received message: Message 17 (acks=0)\n",
      "Received message: Message 18 (acks=0)\n",
      "Received message: Message 19 (acks=0)\n",
      "Received message: Message 14 (acks=0)\n",
      "Received message: Message 16 (acks=0)\n",
      "Received message: Message 19 (acks=0)\n",
      "Received message: Message 11 (acks=0)\n",
      "Received message: Message 15 (acks=0)\n",
      "Received message: Message 16 (acks=0)\n",
      "Received message: Message 19 (acks=0)\n",
      "Received message: Message 11 (acks=0)\n",
      "Received message: Message 13 (acks=0)\n",
      "Received message: Message 13 (acks=0)\n",
      "Received message: Message 11 (acks=0)\n",
      "Received message: Message 13 (acks=0)\n",
      "Received message: Message 15 (acks=0)\n",
      "Received message: Message 17 (acks=0)\n",
      "Received message: Message 18 (acks=0)\n"
     ]
    }
   ],
   "source": [
    "# Consume messages\n",
    "for message in consumer:\n",
    "    print(f\"Received message: {message.value}\")"
   ]
  },
  {
   "cell_type": "code",
   "execution_count": null,
   "id": "98bb5e5f-a401-415d-82f4-fdef991ebc63",
   "metadata": {},
   "outputs": [],
   "source": [
    "# Close the consumer when done\n",
    "consumer.close()\n"
   ]
  }
 ],
 "metadata": {
  "kernelspec": {
   "display_name": "Python 3 (ipykernel)",
   "language": "python",
   "name": "python3"
  },
  "language_info": {
   "codemirror_mode": {
    "name": "ipython",
    "version": 3
   },
   "file_extension": ".py",
   "mimetype": "text/x-python",
   "name": "python",
   "nbconvert_exporter": "python",
   "pygments_lexer": "ipython3",
   "version": "3.11.6"
  }
 },
 "nbformat": 4,
 "nbformat_minor": 5
}
