{
 "cells": [
  {
   "cell_type": "code",
   "execution_count": null,
   "id": "55d4bc36-85db-4049-b712-845854951989",
   "metadata": {},
   "outputs": [],
   "source": [
    "pip install kafka-python"
   ]
  },
  {
   "cell_type": "code",
   "execution_count": null,
   "id": "e30ab5e1-fe14-4aba-b9bb-b8da96d640fe",
   "metadata": {},
   "outputs": [],
   "source": [
    "pip install --upgrade kafka-python"
   ]
  },
  {
   "cell_type": "code",
   "execution_count": 9,
   "id": "7ac6d8ff-3df9-4e99-98ba-4652b6b8dcfb",
   "metadata": {},
   "outputs": [],
   "source": [
    "from kafka import KafkaProducer\n",
    "from kafka import KafkaConsumer, TopicPartition"
   ]
  },
  {
   "cell_type": "code",
   "execution_count": 10,
   "id": "2e04fa85-8b69-40ce-aa2f-f6851cf650e1",
   "metadata": {},
   "outputs": [],
   "source": [
    "bootstrap_servers = 'kafka-1:19092,kafka-2:19093,kafka-3:19094'\n",
    "topic_name = 'msg_delivery_app'"
   ]
  },
  {
   "cell_type": "code",
   "execution_count": 11,
   "id": "c29ba421-b78e-4a7a-a091-57553f4dbcc5",
   "metadata": {},
   "outputs": [],
   "source": [
    "# Acks=0: Fire and forget (no acknowledgment)\n",
    "producer_acks_0 = KafkaProducer(bootstrap_servers=bootstrap_servers, acks=0)\n",
    "\n",
    "# Acks=1: Leader acknowledgment\n",
    "producer_acks_1 = KafkaProducer(bootstrap_servers=bootstrap_servers, acks=1)\n",
    "\n",
    "# Acks=all: Acknowledgment from all replicas\n",
    "producer_acks_all = KafkaProducer(bootstrap_servers=bootstrap_servers, acks='all')"
   ]
  },
  {
   "cell_type": "code",
   "execution_count": 12,
   "id": "83c89a7c-5c62-4b15-a706-b90b6378f41d",
   "metadata": {},
   "outputs": [
    {
     "name": "stdout",
     "output_type": "stream",
     "text": [
      "Producing messages..!\n"
     ]
    }
   ],
   "source": [
    "print(\"Producing messages..!\")\n",
    "\n",
    "# Produce messages\n",
    "for i in range(10):\n",
    "    message = f'Message {i} acks-test'\n",
    "\n",
    "    # Encode the message to bytes\n",
    "    value_bytes = message.encode('utf-8')\n",
    "\n",
    "    producer_acks_0.send(topic_name, value=value_bytes)\n",
    "    producer_acks_1.send(topic_name, value=value_bytes)\n",
    "    producer_acks_all.send(topic_name, value=value_bytes)"
   ]
  },
  {
   "cell_type": "code",
   "execution_count": 13,
   "id": "a15c370e-fdb4-4fbc-9acb-6a9d9c2c28ee",
   "metadata": {},
   "outputs": [
    {
     "name": "stdout",
     "output_type": "stream",
     "text": [
      "Consumer Configuration: {'bootstrap_servers': 'kafka-1:19092,kafka-2:19093,kafka-3:19094', 'client_id': 'kafka-python-2.0.2', 'group_id': '', 'key_deserializer': None, 'value_deserializer': <function <lambda> at 0x7f87817b2200>, 'fetch_max_wait_ms': 500, 'fetch_min_bytes': 1, 'fetch_max_bytes': 52428800, 'max_partition_fetch_bytes': 1048576, 'request_timeout_ms': 305000, 'retry_backoff_ms': 100, 'reconnect_backoff_ms': 50, 'reconnect_backoff_max_ms': 1000, 'max_in_flight_requests_per_connection': 5, 'auto_offset_reset': 'earliest', 'enable_auto_commit': True, 'auto_commit_interval_ms': 5000, 'default_offset_commit_callback': <function KafkaConsumer.<lambda> at 0x7f8781732520>, 'check_crcs': True, 'metadata_max_age_ms': 300000, 'partition_assignment_strategy': (<class 'kafka.coordinator.assignors.range.RangePartitionAssignor'>, <class 'kafka.coordinator.assignors.roundrobin.RoundRobinPartitionAssignor'>), 'max_poll_records': 500, 'max_poll_interval_ms': 300000, 'session_timeout_ms': 10000, 'heartbeat_interval_ms': 3000, 'receive_buffer_bytes': None, 'send_buffer_bytes': None, 'socket_options': [(6, 1, 1)], 'sock_chunk_bytes': 4096, 'sock_chunk_buffer_count': 1000, 'consumer_timeout_ms': inf, 'security_protocol': 'PLAINTEXT', 'ssl_context': None, 'ssl_check_hostname': True, 'ssl_cafile': None, 'ssl_certfile': None, 'ssl_keyfile': None, 'ssl_crlfile': None, 'ssl_password': None, 'ssl_ciphers': None, 'api_version': (2, 5, 0), 'api_version_auto_timeout_ms': 2000, 'connections_max_idle_ms': 540000, 'metric_reporters': [], 'metrics_num_samples': 2, 'metrics_sample_window_ms': 30000, 'metric_group_prefix': 'consumer', 'selector': <class 'selectors.EpollSelector'>, 'exclude_internal_topics': True, 'sasl_mechanism': None, 'sasl_plain_username': None, 'sasl_plain_password': None, 'sasl_kerberos_service_name': 'kafka', 'sasl_kerberos_domain_name': None, 'sasl_oauth_token_provider': None, 'legacy_iterator': False}\n"
     ]
    }
   ],
   "source": [
    "# Set up Kafka consumer\n",
    "consumer = KafkaConsumer(\n",
    "    bootstrap_servers=bootstrap_servers,\n",
    "    auto_offset_reset='earliest',\n",
    "    enable_auto_commit=True,\n",
    "    group_id=\"\",  # Use an empty string to disable group management\n",
    "    value_deserializer=lambda x: x.decode('utf-8')\n",
    ")\n",
    "\n",
    "print(\"Consumer Configuration:\", consumer.config)"
   ]
  },
  {
   "cell_type": "code",
   "execution_count": null,
   "id": "9941ba6b-ac25-4504-bc48-57f60f855504",
   "metadata": {},
   "outputs": [
    {
     "name": "stdout",
     "output_type": "stream",
     "text": [
      "Received message: Message 0 acks-test\n",
      "Received message: Message 1 acks-test\n",
      "Received message: Message 2 acks-test\n",
      "Received message: Message 3 acks-test\n",
      "Received message: Message 4 acks-test\n",
      "Received message: Message 5 acks-test\n",
      "Received message: Message 6 acks-test\n",
      "Received message: Message 7 acks-test\n",
      "Received message: Message 8 acks-test\n",
      "Received message: Message 9 acks-test\n"
     ]
    }
   ],
   "source": [
    "# Assign the partitions to the consumer\n",
    "consumer.assign([TopicPartition(topic_name, 0)])  # Replace '0' with the partition number\n",
    "\n",
    "# Seek to the end to get the latest offset\n",
    "consumer.seek_to_end()\n",
    "\n",
    "# Get the current end offset\n",
    "end_offset = consumer.position(TopicPartition(topic_name, 0))\n",
    "\n",
    "# Calculate the offset from which you want to consume (e.g., last 10 messages)\n",
    "start_offset = max(0, end_offset - 10)\n",
    "\n",
    "# Seek to the calculated offset\n",
    "consumer.seek(TopicPartition(topic_name, 0), start_offset)\n",
    "\n",
    "# Consume messages\n",
    "for message in consumer:\n",
    "    print(f\"Received message: {message.value}\")\n",
    "\n",
    "# Close the consumer when done\n",
    "consumer.close()\n"
   ]
  },
  {
   "cell_type": "code",
   "execution_count": null,
   "id": "653f8537-4b66-493a-8bb7-5da07df2e6c5",
   "metadata": {},
   "outputs": [],
   "source": [
    "#producer_acks_0.close()\n",
    "#producer_acks_1.close()\n",
    "#producer_acks_all.close()\n",
    "\n",
    "# Flush and close the producer\n",
    "producer_acks_0.flush()\n",
    "producer_acks_0.close()\n",
    "\n",
    "# Flush and close the producer\n",
    "producer_acks_1.flush()\n",
    "producer_acks_1.close()\n",
    "\n",
    "# Flush and close the producer\n",
    "producer_acks_all.flush()\n",
    "producer_acks_all.close()"
   ]
  }
 ],
 "metadata": {
  "kernelspec": {
   "display_name": "Python 3 (ipykernel)",
   "language": "python",
   "name": "python3"
  },
  "language_info": {
   "codemirror_mode": {
    "name": "ipython",
    "version": 3
   },
   "file_extension": ".py",
   "mimetype": "text/x-python",
   "name": "python",
   "nbconvert_exporter": "python",
   "pygments_lexer": "ipython3",
   "version": "3.11.6"
  }
 },
 "nbformat": 4,
 "nbformat_minor": 5
}
