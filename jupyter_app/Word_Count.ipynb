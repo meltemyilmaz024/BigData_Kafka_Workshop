{
 "cells": [
  {
   "cell_type": "code",
   "execution_count": 9,
   "id": "d3790058-4cab-4ea5-bad3-1a5b15693029",
   "metadata": {},
   "outputs": [],
   "source": [
    "from confluent_kafka import Producer, Consumer, KafkaError\n",
    "from confluent_kafka.serialization import Serializer, Deserializer\n",
    "from confluent_kafka.serialization import StringDeserializer\n",
    "import random, time\n",
    "import collections"
   ]
  },
  {
   "cell_type": "code",
   "execution_count": 2,
   "id": "6c3285fa-95c4-40c4-89ab-361af294d14d",
   "metadata": {},
   "outputs": [],
   "source": [
    "bootstrap_servers = 'kafka-1:19092,kafka-2:19093,kafka-3:19094'\n",
    "input_topic = 'wordcount-input'\n",
    "output_topic = 'wordcount-output'\n",
    "\n",
    "sample_strings = [\"Hello, world!\", \"Kafka is awesome!\", \"Sample message\", \"Confluent Kafka\"]\n",
    "\n",
    "# Kafka producer configuration\n",
    "producer_conf = {\n",
    "    'bootstrap.servers': bootstrap_servers,\n",
    "}\n",
    "\n",
    "# Create Kafka producer instance\n",
    "producer = Producer(producer_conf)\n",
    "\n",
    "# Example of producing a message with custom serialization\n",
    "key = str(int(time.time() * 1000))  # Using timestamp as a key\n",
    "value = random.choice(sample_strings)\n",
    "\n",
    "producer.produce(\n",
    "    topic=input_topic,\n",
    "    key=key.encode('utf-8'),  # Assuming a UTF-8 encoding for the key,\n",
    "    value=value.encode('utf-8')  # Assuming a UTF-8 encoding for the value\n",
    ")"
   ]
  },
  {
   "cell_type": "code",
   "execution_count": 22,
   "id": "edc82734-5653-4c37-bbf3-99ee451da26d",
   "metadata": {},
   "outputs": [],
   "source": [
    "# Add all sample strings !\n",
    "for value in sample_strings:\n",
    "    producer.produce(\n",
    "        topic=input_topic,\n",
    "        key=MySerializer.serialize(key),\n",
    "        value=MySerializer.serialize(value)\n",
    "    )"
   ]
  },
  {
   "cell_type": "code",
   "execution_count": 3,
   "id": "84ddd447-05e2-4b79-ae5f-43ef03f81a91",
   "metadata": {},
   "outputs": [
    {
     "data": {
      "text/plain": [
       "0"
      ]
     },
     "execution_count": 3,
     "metadata": {},
     "output_type": "execute_result"
    }
   ],
   "source": [
    "# Don't forget to flush the producer to ensure the message is sent\n",
    "producer.flush()"
   ]
  },
  {
   "cell_type": "code",
   "execution_count": 10,
   "id": "29ba3dee-e816-4ede-8d0f-948389a4719c",
   "metadata": {},
   "outputs": [],
   "source": [
    "# Kafka consumer configuration\n",
    "consumer_conf = {\n",
    "    'bootstrap.servers': bootstrap_servers,\n",
    "    'group.id': 'wordcount-group',\n",
    "    'auto.offset.reset': 'earliest',\n",
    "}\n",
    "\n",
    "# Create Kafka consumer instance\n",
    "consumer = Consumer(consumer_conf)\n",
    "\n",
    "# Subscribe to the input topic\n",
    "consumer.subscribe([input_topic])\n",
    "\n",
    "# Dictionary to store word counts\n",
    "word_counts = collections.defaultdict(int)"
   ]
  },
  {
   "cell_type": "code",
   "execution_count": 6,
   "id": "b109ba8e-a532-4af3-92fa-162f42ff49c2",
   "metadata": {},
   "outputs": [],
   "source": [
    "def produce_word_count_records(line):\n",
    "    words = line.split()\n",
    "    word_count = {}\n",
    "\n",
    "    for word in words:\n",
    "        word_count[word] = word_count.get(word, 0) + 1\n",
    "\n",
    "    return word_count\n",
    "\n",
    "def produce_output_records(key, value):\n",
    "    records = []\n",
    "    for word, count in value.items():\n",
    "        records.append((word, count))\n",
    "    return records"
   ]
  },
  {
   "cell_type": "code",
   "execution_count": 7,
   "id": "a7ddd272-b123-46a8-8b7e-950d9a2cf95f",
   "metadata": {},
   "outputs": [
    {
     "name": "stdout",
     "output_type": "stream",
     "text": [
      "Received message: Value=Kafka is awesome!\n",
      "Word Counts: {'Kafka': 1, 'is': 1, 'awesome!': 1}\n"
     ]
    }
   ],
   "source": [
    "try:\n",
    "    while True:\n",
    "        msg = consumer.poll(1.0)  # Adjust the timeout as needed\n",
    "\n",
    "        if msg is None:\n",
    "            continue\n",
    "        if msg.error():\n",
    "            if msg.error().code() == KafkaError._PARTITION_EOF:\n",
    "                # End of partition event, not an error\n",
    "                continue\n",
    "            else:\n",
    "                print(f\"Consumer error: {msg.error()}\")\n",
    "                continue\n",
    "\n",
    "        key = msg.key()  # Binary key\n",
    "        value = msg.value()  # Binary value\n",
    "\n",
    "        # Decode key and value as needed\n",
    "        decoded_value = value.decode('utf-8') if value else None\n",
    "\n",
    "        # Your processing logic here\n",
    "        print(f\"Received message: Value={decoded_value}\")\n",
    "\n",
    "        # Process each line and produce word count records\n",
    "        word_count_records = produce_word_count_records(decoded_value)\n",
    "\n",
    "        # Update word counts\n",
    "        for word, count in word_count_records.items():\n",
    "            word_counts[word] += count\n",
    "\n",
    "        # Produce output records\n",
    "        output_records = produce_output_records(key, word_count_records)\n",
    "\n",
    "        # Print word counts\n",
    "        print(\"Word Counts:\", dict(word_counts))\n",
    "\n",
    "except KeyboardInterrupt:\n",
    "    pass\n",
    "finally:\n",
    "    # Close the consumer\n",
    "    consumer.close()"
   ]
  }
 ],
 "metadata": {
  "kernelspec": {
   "display_name": "Python 3 (ipykernel)",
   "language": "python",
   "name": "python3"
  },
  "language_info": {
   "codemirror_mode": {
    "name": "ipython",
    "version": 3
   },
   "file_extension": ".py",
   "mimetype": "text/x-python",
   "name": "python",
   "nbconvert_exporter": "python",
   "pygments_lexer": "ipython3",
   "version": "3.11.6"
  }
 },
 "nbformat": 4,
 "nbformat_minor": 5
}
